{
 "cells": [
  {
   "cell_type": "markdown",
   "metadata": {},
   "source": [
    "# Max Consecutive Ones\n",
    " Given a binary array nums, return the maximum number of consecutive 1's in the array."
   ]
  },
  {
   "cell_type": "markdown",
   "metadata": {},
   "source": [
    " Example 1:\n",
    "\n",
    " Input: nums = [1,1,0,1,1,1]\n",
    " Output: 3\n",
    " Explanation: The first two digits or the last three digits are consecutive 1s. The maximum number of consecutive 1s is 3.\n"
   ]
  },
  {
   "cell_type": "markdown",
   "metadata": {},
   "source": [
    " Example 2:\n",
    "\n",
    " Input: nums = [1,0,1,1,0,1]\n",
    " Output: 2\n",
    " \n",
    "\n",
    " Constraints:\n",
    "\n",
    " 1 <= nums.length <= 105\n",
    " nums[i] is either 0 or 1."
   ]
  },
  {
   "cell_type": "code",
   "execution_count": null,
   "metadata": {},
   "outputs": [],
   "source": [
    "class Solution:\n",
    "    def findMaxConsecutiveOnes(self, nums: List[int]) -> int:\n",
    "        len1=0\n",
    "        len2=0\n",
    "        for i in nums:\n",
    "            \n",
    "            if i ==1:\n",
    "                len2=len2+1\n",
    "            else:\n",
    "                if len2>len1:\n",
    "                    len1=len2\n",
    "                len2=0\n",
    "        if len2>len1:\n",
    "            len1=len2\n",
    "        return len1"
   ]
  },
  {
   "cell_type": "markdown",
   "metadata": {},
   "source": [
    "# Find Numbers with Even Number of Digits\n",
    "Given an array nums of integers, return how many of them contain an even number of digits.\n",
    "Example 1:\n",
    "\n",
    "Input: nums = [12,345,2,6,7896]\n",
    "Output: 2\n",
    "Explanation: \n",
    "12 contains 2 digits (even number of digits). \n",
    "345 contains 3 digits (odd number of digits). \n",
    "2 contains 1 digit (odd number of digits). \n",
    "6 contains 1 digit (odd number of digits). \n",
    "7896 contains 4 digits (even number of digits). \n",
    "Therefore only 12 and 7896 contain an even number of digits.\n",
    "Example 2:\n",
    "\n",
    "Input: nums = [555,901,482,1771]\n",
    "Output: 1 \n",
    "Explanation: \n",
    "Only 1771 contains an even number of digits.\n",
    " \n",
    "\n",
    "Constraints:\n",
    "\n",
    "1 <= nums.length <= 500\n",
    "1 <= nums[i] <= 105"
   ]
  },
  {
   "cell_type": "code",
   "execution_count": null,
   "metadata": {},
   "outputs": [],
   "source": [
    "class Solution:\n",
    "    def findNumbers(self, nums: List[int]) -> int:\n",
    "        l1=[]\n",
    "        even=0\n",
    "        for i in nums:\n",
    "            for j in str(i):\n",
    "                even=even+1\n",
    "                # print(str(even))\n",
    "            if even % 2==0:\n",
    "                l1.append(i)\n",
    "            even=0\n",
    "        return len(l1)   "
   ]
  },
  {
   "cell_type": "markdown",
   "metadata": {},
   "source": [
    "# Squares of a Sorted Array\n",
    "Given an integer array nums sorted in non-decreasing order, return an array of the squares of each number sorted in non-decreasing order.\n",
    "\n",
    " \n",
    "\n",
    "Example 1:\n",
    "\n",
    "Input: nums = [-4,-1,0,3,10]\n",
    "Output: [0,1,9,16,100]\n",
    "Explanation: After squaring, the array becomes [16,1,0,9,100].\n",
    "After sorting, it becomes [0,1,9,16,100].\n",
    "Example 2:\n",
    "\n",
    "Input: nums = [-7,-3,2,3,11]\n",
    "Output: [4,9,9,49,121]\n",
    " \n",
    "\n",
    "Constraints:\n",
    "\n",
    "1 <= nums.length <= 104\n",
    "-104 <= nums[i] <= 104\n",
    "nums is sorted in non-decreasing order.\n",
    " \n",
    "\n",
    "Follow up: Squaring each element and sorting the new array is very trivial, could you find an O(n) solution using a different approach?"
   ]
  },
  {
   "cell_type": "code",
   "execution_count": null,
   "metadata": {},
   "outputs": [],
   "source": [
    "class Solution:\n",
    "    def sortedSquares(self, nums: List[int]) -> List[int]:\n",
    "        l1=[]\n",
    "        for  i in nums:\n",
    "            l1.append(i*i)\n",
    "        # print(l1)\n",
    "        l1.sort()\n",
    "        # print(l1)\n",
    "        return l1\n",
    "            "
   ]
  },
  {
   "cell_type": "markdown",
   "metadata": {},
   "source": [
    "# Duplicate Zeros\n",
    "Given a fixed-length integer array arr, duplicate each occurrence of zero, shifting the remaining elements to the right.\n",
    "\n",
    "Note that elements beyond the length of the original array are not written. Do the above modifications to the input array in place and do not return anything.\n",
    "\n",
    " \n",
    "\n",
    "Example 1:\n",
    "\n",
    "Input: arr = [1,0,2,3,0,4,5,0]\n",
    "Output: [1,0,0,2,3,0,0,4]\n",
    "Explanation: After calling your function, the input array is modified to: [1,0,0,2,3,0,0,4]\n",
    "Example 2:\n",
    "\n",
    "Input: arr = [1,2,3]\n",
    "Output: [1,2,3]\n",
    "Explanation: After calling your function, the input array is modified to: [1,2,3]\n",
    " \n",
    "\n",
    "Constraints:\n",
    "\n",
    "1 <= arr.length <= 104\n",
    "0 <= arr[i] <= 9\n",
    "   Hide Hint #1  \n",
    "This is a great introductory problem for understanding and working with the concept of in-place operations. The problem statement clearly states that we are to modify the array in-place. That does not mean we cannot use another array. We just don't have to return anything.\n",
    "   Hide Hint #2  \n",
    "A better way to solve this would be without using additional space. The only reason the problem statement allows you to make modifications in place is that it hints at avoiding any additional memory.\n",
    "   Hide Hint #3  \n",
    "The main problem with not using additional memory is that we might override elements due to the zero duplication requirement of the problem statement. How do we get around that?\n",
    "   Hide Hint #4  \n",
    "If we had enough space available, we would be able to accommodate all the elements properly. The new length would be the original length of the array plus the number of zeros. Can we use this information somehow to solve the problem?"
   ]
  },
  {
   "cell_type": "code",
   "execution_count": null,
   "metadata": {},
   "outputs": [],
   "source": [
    "class Solution:\n",
    "    def duplicateZeros(self, arr: List[int]) -> None:\n",
    "        \"\"\"\n",
    "        Do not return anything, modify arr in-place instead.\n",
    "        \"\"\"\n",
    "        # len1=len(arr)\n",
    "        # for i in range(0,len1):\n",
    "        #     if arr[i]==0:\n",
    "        #         for j in reversed(range(len1)):\n",
    "        #             arr[j]=arr[j-1]\n",
    "        #     if i<len(arr):\n",
    "        #         arr[i]=0\n",
    "        \n",
    "        \n",
    "        arr2 = [i for i in arr]\n",
    "        i=0\n",
    "        j = 0\n",
    "        while i < len(arr):\n",
    "            if not arr2[j]:\n",
    "                arr[i] = 0\n",
    "                i+=1\n",
    "                if i<len(arr):\n",
    "                    arr[i] = 0\n",
    "            else:\n",
    "                arr[i] = arr2[j]\n",
    "            j+=1\n",
    "            i+=1"
   ]
  },
  {
   "cell_type": "markdown",
   "metadata": {},
   "source": []
  }
 ],
 "metadata": {
  "kernelspec": {
   "display_name": "Python 3.10.6 64-bit",
   "language": "python",
   "name": "python3"
  },
  "language_info": {
   "name": "python",
   "version": "3.10.6"
  },
  "orig_nbformat": 4,
  "vscode": {
   "interpreter": {
    "hash": "bef0c7d9cbfa3e0ca8449e65910136b1507e8d5a50448b58358c0d7ff0979873"
   }
  }
 },
 "nbformat": 4,
 "nbformat_minor": 2
}
