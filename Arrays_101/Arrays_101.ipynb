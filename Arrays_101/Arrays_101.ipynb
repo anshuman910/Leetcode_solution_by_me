{
 "cells": [
  {
   "cell_type": "markdown",
   "metadata": {},
   "source": [
    "# Given a binary array nums, return the maximum number of consecutive 1's in the array."
   ]
  },
  {
   "cell_type": "markdown",
   "metadata": {},
   "source": [
    "Example 1:\n",
    "\n",
    "Input: nums = [1,1,0,1,1,1]\n",
    "Output: 3\n",
    "Explanation: The first two digits or the last three digits are consecutive 1s. The maximum number of consecutive 1s is 3.\n"
   ]
  },
  {
   "cell_type": "markdown",
   "metadata": {},
   "source": [
    "# Example 2:\n",
    "\n",
    "# Input: nums = [1,0,1,1,0,1]\n",
    "# Output: 2\n",
    " \n",
    "\n",
    "# Constraints:\n",
    "\n",
    "# 1 <= nums.length <= 105\n",
    "# nums[i] is either 0 or 1."
   ]
  },
  {
   "cell_type": "code",
   "execution_count": null,
   "metadata": {},
   "outputs": [],
   "source": [
    "class Solution:\n",
    "    def findMaxConsecutiveOnes(self, nums: List[int]) -> int:\n",
    "        len1=0\n",
    "        len2=0\n",
    "        for i in nums:\n",
    "            \n",
    "            if i ==1:\n",
    "                len2=len2+1\n",
    "            else:\n",
    "                if len2>len1:\n",
    "                    len1=len2\n",
    "                len2=0\n",
    "        if len2>len1:\n",
    "            len1=len2\n",
    "        return len1"
   ]
  },
  {
   "cell_type": "code",
   "execution_count": null,
   "metadata": {},
   "outputs": [],
   "source": []
  }
 ],
 "metadata": {
  "kernelspec": {
   "display_name": "Python 3.10.6 64-bit",
   "language": "python",
   "name": "python3"
  },
  "language_info": {
   "name": "python",
   "version": "3.10.6"
  },
  "orig_nbformat": 4,
  "vscode": {
   "interpreter": {
    "hash": "bef0c7d9cbfa3e0ca8449e65910136b1507e8d5a50448b58358c0d7ff0979873"
   }
  }
 },
 "nbformat": 4,
 "nbformat_minor": 2
}
