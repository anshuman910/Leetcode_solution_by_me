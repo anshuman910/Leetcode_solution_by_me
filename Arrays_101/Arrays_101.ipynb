{
 "cells": [
  {
   "cell_type": "markdown",
   "metadata": {},
   "source": [
    "# Max Consecutive Ones\n",
    " Given a binary array nums, return the maximum number of consecutive 1's in the array."
   ]
  },
  {
   "cell_type": "markdown",
   "metadata": {},
   "source": [
    " Example 1:\n",
    "\n",
    " Input: nums = [1,1,0,1,1,1]\n",
    " Output: 3\n",
    " Explanation: The first two digits or the last three digits are consecutive 1s. The maximum number of consecutive 1s is 3.\n"
   ]
  },
  {
   "cell_type": "markdown",
   "metadata": {},
   "source": [
    " Example 2:\n",
    "\n",
    " Input: nums = [1,0,1,1,0,1]\n",
    " Output: 2\n",
    " \n",
    "\n",
    " Constraints:\n",
    "\n",
    " 1 <= nums.length <= 105\n",
    " nums[i] is either 0 or 1."
   ]
  },
  {
   "cell_type": "code",
   "execution_count": null,
   "metadata": {},
   "outputs": [],
   "source": [
    "class Solution:\n",
    "    def findMaxConsecutiveOnes(self, nums: List[int]) -> int:\n",
    "        len1=0\n",
    "        len2=0\n",
    "        for i in nums:\n",
    "            \n",
    "            if i ==1:\n",
    "                len2=len2+1\n",
    "            else:\n",
    "                if len2>len1:\n",
    "                    len1=len2\n",
    "                len2=0\n",
    "        if len2>len1:\n",
    "            len1=len2\n",
    "        return len1"
   ]
  },
  {
   "cell_type": "markdown",
   "metadata": {},
   "source": [
    "# Find Numbers with Even Number of Digits\n",
    "Given an array nums of integers, return how many of them contain an even number of digits.\n",
    "Example 1:\n",
    "\n",
    "Input: nums = [12,345,2,6,7896]\n",
    "Output: 2\n",
    "Explanation: \n",
    "12 contains 2 digits (even number of digits). \n",
    "345 contains 3 digits (odd number of digits). \n",
    "2 contains 1 digit (odd number of digits). \n",
    "6 contains 1 digit (odd number of digits). \n",
    "7896 contains 4 digits (even number of digits). \n",
    "Therefore only 12 and 7896 contain an even number of digits.\n",
    "Example 2:\n",
    "\n",
    "Input: nums = [555,901,482,1771]\n",
    "Output: 1 \n",
    "Explanation: \n",
    "Only 1771 contains an even number of digits.\n",
    " \n",
    "\n",
    "Constraints:\n",
    "\n",
    "1 <= nums.length <= 500\n",
    "1 <= nums[i] <= 105"
   ]
  },
  {
   "cell_type": "code",
   "execution_count": null,
   "metadata": {},
   "outputs": [],
   "source": [
    "class Solution:\n",
    "    def findNumbers(self, nums: List[int]) -> int:\n",
    "        l1=[]\n",
    "        even=0\n",
    "        for i in nums:\n",
    "            for j in str(i):\n",
    "                even=even+1\n",
    "                # print(str(even))\n",
    "            if even % 2==0:\n",
    "                l1.append(i)\n",
    "            even=0\n",
    "        return len(l1)   "
   ]
  }
 ],
 "metadata": {
  "kernelspec": {
   "display_name": "Python 3.10.6 64-bit",
   "language": "python",
   "name": "python3"
  },
  "language_info": {
   "name": "python",
   "version": "3.10.6"
  },
  "orig_nbformat": 4,
  "vscode": {
   "interpreter": {
    "hash": "bef0c7d9cbfa3e0ca8449e65910136b1507e8d5a50448b58358c0d7ff0979873"
   }
  }
 },
 "nbformat": 4,
 "nbformat_minor": 2
}
